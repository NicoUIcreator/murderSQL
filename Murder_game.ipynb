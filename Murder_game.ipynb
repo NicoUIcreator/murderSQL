{
 "cells": [
  {
   "cell_type": "code",
   "execution_count": 2,
   "metadata": {},
   "outputs": [],
   "source": [
    "import pandas as pd\n",
    "import sqlite3"
   ]
  },
  {
   "cell_type": "code",
   "execution_count": 3,
   "metadata": {},
   "outputs": [],
   "source": [
    "# Conectamos con la base de datos chinook.db\n",
    "connection = sqlite3.connect(\"data/sql-murder-mystery.db\")\n",
    "\n",
    "# Obtenemos un cursor que utilizaremos para hacer las queries\n",
    "crsr = connection.cursor()"
   ]
  },
  {
   "cell_type": "code",
   "execution_count": 4,
   "metadata": {},
   "outputs": [],
   "source": [
    "# Con esta función leemos los datos y lo pasamos a un DataFrame de Pandas\n",
    "def sql_query(query):\n",
    "\n",
    "    # Ejecuta la query\n",
    "    crsr.execute(query)\n",
    "\n",
    "    # Almacena los datos de la query \n",
    "    ans = crsr.fetchall()\n",
    "\n",
    "    # Obtenemos los nombres de las columnas de la tabla\n",
    "    names = [description[0] for description in crsr.description]\n",
    "\n",
    "    return pd.DataFrame(ans,columns=names)"
   ]
  },
  {
   "cell_type": "code",
   "execution_count": 5,
   "metadata": {},
   "outputs": [
    {
     "name": "stdout",
     "output_type": "stream",
     "text": [
      "crime_scene_report\n",
      "drivers_license\n",
      "person\n",
      "facebook_event_checkin\n",
      "interview\n",
      "get_fit_now_member\n",
      "get_fit_now_check_in\n",
      "income\n",
      "solution\n"
     ]
    }
   ],
   "source": [
    "res = crsr.execute(\"SELECT name FROM sqlite_master WHERE type='table'\")\n",
    "for name in res:\n",
    "    print(name[0])"
   ]
  },
  {
   "cell_type": "code",
   "execution_count": 6,
   "metadata": {},
   "outputs": [
    {
     "data": {
      "text/html": [
       "<div>\n",
       "<style scoped>\n",
       "    .dataframe tbody tr th:only-of-type {\n",
       "        vertical-align: middle;\n",
       "    }\n",
       "\n",
       "    .dataframe tbody tr th {\n",
       "        vertical-align: top;\n",
       "    }\n",
       "\n",
       "    .dataframe thead th {\n",
       "        text-align: right;\n",
       "    }\n",
       "</style>\n",
       "<table border=\"1\" class=\"dataframe\">\n",
       "  <thead>\n",
       "    <tr style=\"text-align: right;\">\n",
       "      <th></th>\n",
       "      <th>id</th>\n",
       "      <th>name</th>\n",
       "      <th>license_id</th>\n",
       "      <th>address_number</th>\n",
       "      <th>address_street_name</th>\n",
       "      <th>ssn</th>\n",
       "    </tr>\n",
       "  </thead>\n",
       "  <tbody>\n",
       "    <tr>\n",
       "      <th>0</th>\n",
       "      <td>10000</td>\n",
       "      <td>Christoper Peteuil</td>\n",
       "      <td>993845</td>\n",
       "      <td>624</td>\n",
       "      <td>Bankhall Ave</td>\n",
       "      <td>747714076</td>\n",
       "    </tr>\n",
       "    <tr>\n",
       "      <th>1</th>\n",
       "      <td>10007</td>\n",
       "      <td>Kourtney Calderwood</td>\n",
       "      <td>861794</td>\n",
       "      <td>2791</td>\n",
       "      <td>Gustavus Blvd</td>\n",
       "      <td>477972044</td>\n",
       "    </tr>\n",
       "    <tr>\n",
       "      <th>2</th>\n",
       "      <td>10010</td>\n",
       "      <td>Muoi Cary</td>\n",
       "      <td>385336</td>\n",
       "      <td>741</td>\n",
       "      <td>Northwestern Dr</td>\n",
       "      <td>828638512</td>\n",
       "    </tr>\n",
       "    <tr>\n",
       "      <th>3</th>\n",
       "      <td>10016</td>\n",
       "      <td>Era Moselle</td>\n",
       "      <td>431897</td>\n",
       "      <td>1987</td>\n",
       "      <td>Wood Glade St</td>\n",
       "      <td>614621061</td>\n",
       "    </tr>\n",
       "    <tr>\n",
       "      <th>4</th>\n",
       "      <td>10025</td>\n",
       "      <td>Trena Hornby</td>\n",
       "      <td>550890</td>\n",
       "      <td>276</td>\n",
       "      <td>Daws Hill Way</td>\n",
       "      <td>223877684</td>\n",
       "    </tr>\n",
       "    <tr>\n",
       "      <th>5</th>\n",
       "      <td>10027</td>\n",
       "      <td>Antione Godbolt</td>\n",
       "      <td>439509</td>\n",
       "      <td>2431</td>\n",
       "      <td>Zelham Dr</td>\n",
       "      <td>491650087</td>\n",
       "    </tr>\n",
       "    <tr>\n",
       "      <th>6</th>\n",
       "      <td>10034</td>\n",
       "      <td>Kyra Buen</td>\n",
       "      <td>920494</td>\n",
       "      <td>1873</td>\n",
       "      <td>Sleigh Dr</td>\n",
       "      <td>332497972</td>\n",
       "    </tr>\n",
       "    <tr>\n",
       "      <th>7</th>\n",
       "      <td>10039</td>\n",
       "      <td>Francesco Agundez</td>\n",
       "      <td>278151</td>\n",
       "      <td>736</td>\n",
       "      <td>Buswell Dr</td>\n",
       "      <td>861079251</td>\n",
       "    </tr>\n",
       "    <tr>\n",
       "      <th>8</th>\n",
       "      <td>10095</td>\n",
       "      <td>Leslie Thate</td>\n",
       "      <td>729987</td>\n",
       "      <td>2772</td>\n",
       "      <td>Camellia Park Circle</td>\n",
       "      <td>127944356</td>\n",
       "    </tr>\n",
       "    <tr>\n",
       "      <th>9</th>\n",
       "      <td>10122</td>\n",
       "      <td>Alva Conkel</td>\n",
       "      <td>779002</td>\n",
       "      <td>116</td>\n",
       "      <td>Diversey Circle</td>\n",
       "      <td>148521773</td>\n",
       "    </tr>\n",
       "  </tbody>\n",
       "</table>\n",
       "</div>"
      ],
      "text/plain": [
       "      id                 name  license_id  address_number  \\\n",
       "0  10000   Christoper Peteuil      993845             624   \n",
       "1  10007  Kourtney Calderwood      861794            2791   \n",
       "2  10010            Muoi Cary      385336             741   \n",
       "3  10016          Era Moselle      431897            1987   \n",
       "4  10025         Trena Hornby      550890             276   \n",
       "5  10027      Antione Godbolt      439509            2431   \n",
       "6  10034            Kyra Buen      920494            1873   \n",
       "7  10039    Francesco Agundez      278151             736   \n",
       "8  10095         Leslie Thate      729987            2772   \n",
       "9  10122          Alva Conkel      779002             116   \n",
       "\n",
       "    address_street_name        ssn  \n",
       "0          Bankhall Ave  747714076  \n",
       "1         Gustavus Blvd  477972044  \n",
       "2       Northwestern Dr  828638512  \n",
       "3         Wood Glade St  614621061  \n",
       "4         Daws Hill Way  223877684  \n",
       "5             Zelham Dr  491650087  \n",
       "6             Sleigh Dr  332497972  \n",
       "7            Buswell Dr  861079251  \n",
       "8  Camellia Park Circle  127944356  \n",
       "9       Diversey Circle  148521773  "
      ]
     },
     "execution_count": 6,
     "metadata": {},
     "output_type": "execute_result"
    }
   ],
   "source": [
    "query = '''\n",
    "SELECT * \n",
    "FROM person\n",
    "'''\n",
    "\n",
    "df = sql_query(query)\n",
    "df.head(10)"
   ]
  },
  {
   "cell_type": "code",
   "execution_count": 7,
   "metadata": {},
   "outputs": [
    {
     "data": {
      "text/html": [
       "<div>\n",
       "<style scoped>\n",
       "    .dataframe tbody tr th:only-of-type {\n",
       "        vertical-align: middle;\n",
       "    }\n",
       "\n",
       "    .dataframe tbody tr th {\n",
       "        vertical-align: top;\n",
       "    }\n",
       "\n",
       "    .dataframe thead th {\n",
       "        text-align: right;\n",
       "    }\n",
       "</style>\n",
       "<table border=\"1\" class=\"dataframe\">\n",
       "  <thead>\n",
       "    <tr style=\"text-align: right;\">\n",
       "      <th></th>\n",
       "      <th>date</th>\n",
       "      <th>type</th>\n",
       "      <th>description</th>\n",
       "      <th>city</th>\n",
       "    </tr>\n",
       "  </thead>\n",
       "  <tbody>\n",
       "    <tr>\n",
       "      <th>0</th>\n",
       "      <td>20180115</td>\n",
       "      <td>robbery</td>\n",
       "      <td>A Man Dressed as Spider-Man Is on a Robbery Spree</td>\n",
       "      <td>NYC</td>\n",
       "    </tr>\n",
       "    <tr>\n",
       "      <th>1</th>\n",
       "      <td>20180115</td>\n",
       "      <td>murder</td>\n",
       "      <td>Life? Dont talk to me about life.</td>\n",
       "      <td>Albany</td>\n",
       "    </tr>\n",
       "    <tr>\n",
       "      <th>2</th>\n",
       "      <td>20180115</td>\n",
       "      <td>murder</td>\n",
       "      <td>Mama, I killed a man, put a gun against his he...</td>\n",
       "      <td>Reno</td>\n",
       "    </tr>\n",
       "    <tr>\n",
       "      <th>3</th>\n",
       "      <td>20180215</td>\n",
       "      <td>murder</td>\n",
       "      <td>REDACTED REDACTED REDACTED</td>\n",
       "      <td>SQL City</td>\n",
       "    </tr>\n",
       "    <tr>\n",
       "      <th>4</th>\n",
       "      <td>20180215</td>\n",
       "      <td>murder</td>\n",
       "      <td>Someone killed the guard! He took an arrow to ...</td>\n",
       "      <td>SQL City</td>\n",
       "    </tr>\n",
       "    <tr>\n",
       "      <th>5</th>\n",
       "      <td>20180115</td>\n",
       "      <td>theft</td>\n",
       "      <td>Big Bully stole my lunch money!</td>\n",
       "      <td>Chicago</td>\n",
       "    </tr>\n",
       "    <tr>\n",
       "      <th>6</th>\n",
       "      <td>20180115</td>\n",
       "      <td>fraud</td>\n",
       "      <td>Lorem ipsum dolor sit amet, consectetur adipis...</td>\n",
       "      <td>Seattle</td>\n",
       "    </tr>\n",
       "    <tr>\n",
       "      <th>7</th>\n",
       "      <td>20170712</td>\n",
       "      <td>theft</td>\n",
       "      <td>A lone hunter stalks the night, firing arrows ...</td>\n",
       "      <td>SQL City</td>\n",
       "    </tr>\n",
       "    <tr>\n",
       "      <th>8</th>\n",
       "      <td>20170820</td>\n",
       "      <td>arson</td>\n",
       "      <td>Wield the Hammer of Sol with honor, Titan, it ...</td>\n",
       "      <td>SQL City</td>\n",
       "    </tr>\n",
       "    <tr>\n",
       "      <th>9</th>\n",
       "      <td>20171110</td>\n",
       "      <td>robbery</td>\n",
       "      <td>The Gjallarhorn shoulder-mounted rocket system...</td>\n",
       "      <td>SQL City</td>\n",
       "    </tr>\n",
       "  </tbody>\n",
       "</table>\n",
       "</div>"
      ],
      "text/plain": [
       "       date     type                                        description  \\\n",
       "0  20180115  robbery  A Man Dressed as Spider-Man Is on a Robbery Spree   \n",
       "1  20180115   murder                  Life? Dont talk to me about life.   \n",
       "2  20180115   murder  Mama, I killed a man, put a gun against his he...   \n",
       "3  20180215   murder                         REDACTED REDACTED REDACTED   \n",
       "4  20180215   murder  Someone killed the guard! He took an arrow to ...   \n",
       "5  20180115    theft                    Big Bully stole my lunch money!   \n",
       "6  20180115    fraud  Lorem ipsum dolor sit amet, consectetur adipis...   \n",
       "7  20170712    theft  A lone hunter stalks the night, firing arrows ...   \n",
       "8  20170820    arson  Wield the Hammer of Sol with honor, Titan, it ...   \n",
       "9  20171110  robbery  The Gjallarhorn shoulder-mounted rocket system...   \n",
       "\n",
       "       city  \n",
       "0       NYC  \n",
       "1    Albany  \n",
       "2      Reno  \n",
       "3  SQL City  \n",
       "4  SQL City  \n",
       "5   Chicago  \n",
       "6   Seattle  \n",
       "7  SQL City  \n",
       "8  SQL City  \n",
       "9  SQL City  "
      ]
     },
     "execution_count": 7,
     "metadata": {},
     "output_type": "execute_result"
    }
   ],
   "source": [
    "query = '''\n",
    "SELECT * \n",
    "FROM crime_scene_report\n",
    "'''\n",
    "\n",
    "df = sql_query(query)\n",
    "df.head(10)"
   ]
  },
  {
   "cell_type": "code",
   "execution_count": 17,
   "metadata": {},
   "outputs": [
    {
     "data": {
      "text/html": [
       "<div>\n",
       "<style scoped>\n",
       "    .dataframe tbody tr th:only-of-type {\n",
       "        vertical-align: middle;\n",
       "    }\n",
       "\n",
       "    .dataframe tbody tr th {\n",
       "        vertical-align: top;\n",
       "    }\n",
       "\n",
       "    .dataframe thead th {\n",
       "        text-align: right;\n",
       "    }\n",
       "</style>\n",
       "<table border=\"1\" class=\"dataframe\">\n",
       "  <thead>\n",
       "    <tr style=\"text-align: right;\">\n",
       "      <th></th>\n",
       "      <th>date</th>\n",
       "      <th>type</th>\n",
       "      <th>description</th>\n",
       "      <th>city</th>\n",
       "    </tr>\n",
       "  </thead>\n",
       "  <tbody>\n",
       "    <tr>\n",
       "      <th>0</th>\n",
       "      <td>20180115</td>\n",
       "      <td>assault</td>\n",
       "      <td>Hamilton: Lee, do you yield? Burr: You shot hi...</td>\n",
       "      <td>SQL City</td>\n",
       "    </tr>\n",
       "    <tr>\n",
       "      <th>1</th>\n",
       "      <td>20180115</td>\n",
       "      <td>assault</td>\n",
       "      <td>Report Not Found</td>\n",
       "      <td>SQL City</td>\n",
       "    </tr>\n",
       "    <tr>\n",
       "      <th>2</th>\n",
       "      <td>20180115</td>\n",
       "      <td>murder</td>\n",
       "      <td>Security footage shows that there were 2 witne...</td>\n",
       "      <td>SQL City</td>\n",
       "    </tr>\n",
       "  </tbody>\n",
       "</table>\n",
       "</div>"
      ],
      "text/plain": [
       "       date     type                                        description  \\\n",
       "0  20180115  assault  Hamilton: Lee, do you yield? Burr: You shot hi...   \n",
       "1  20180115  assault                                   Report Not Found   \n",
       "2  20180115   murder  Security footage shows that there were 2 witne...   \n",
       "\n",
       "       city  \n",
       "0  SQL City  \n",
       "1  SQL City  \n",
       "2  SQL City  "
      ]
     },
     "execution_count": 17,
     "metadata": {},
     "output_type": "execute_result"
    }
   ],
   "source": [
    "query = '''\n",
    "SELECT * \n",
    "FROM crime_scene_report\n",
    "WHERE city = \"SQL City\"\n",
    "AND date = 20180115;\n",
    "\n",
    "'''\n",
    "\n",
    "df = sql_query(query)\n",
    "df"
   ]
  },
  {
   "cell_type": "code",
   "execution_count": 19,
   "metadata": {},
   "outputs": [
    {
     "data": {
      "text/plain": [
       "'Security footage shows that there were 2 witnesses. The first witness lives at the last house on \"Northwestern Dr\". The second witness, named Annabel, lives somewhere on \"Franklin Ave\".'"
      ]
     },
     "execution_count": 19,
     "metadata": {},
     "output_type": "execute_result"
    }
   ],
   "source": [
    "df[\"description\"][2]"
   ]
  },
  {
   "cell_type": "code",
   "execution_count": null,
   "metadata": {},
   "outputs": [],
   "source": [
    "Security footage shows that there were 2 witnesses. The first witness lives at the last house on \"Northwestern Dr\". The second witness, named Annabel, lives somewhere on \"Franklin Ave\""
   ]
  },
  {
   "cell_type": "code",
   "execution_count": 24,
   "metadata": {},
   "outputs": [
    {
     "data": {
      "text/html": [
       "<div>\n",
       "<style scoped>\n",
       "    .dataframe tbody tr th:only-of-type {\n",
       "        vertical-align: middle;\n",
       "    }\n",
       "\n",
       "    .dataframe tbody tr th {\n",
       "        vertical-align: top;\n",
       "    }\n",
       "\n",
       "    .dataframe thead th {\n",
       "        text-align: right;\n",
       "    }\n",
       "</style>\n",
       "<table border=\"1\" class=\"dataframe\">\n",
       "  <thead>\n",
       "    <tr style=\"text-align: right;\">\n",
       "      <th></th>\n",
       "      <th>id</th>\n",
       "      <th>name</th>\n",
       "      <th>license_id</th>\n",
       "      <th>address_number</th>\n",
       "      <th>address_street_name</th>\n",
       "      <th>ssn</th>\n",
       "    </tr>\n",
       "  </thead>\n",
       "  <tbody>\n",
       "    <tr>\n",
       "      <th>0</th>\n",
       "      <td>16371</td>\n",
       "      <td>Annabel Miller</td>\n",
       "      <td>490173</td>\n",
       "      <td>103</td>\n",
       "      <td>Franklin Ave</td>\n",
       "      <td>318771143</td>\n",
       "    </tr>\n",
       "    <tr>\n",
       "      <th>1</th>\n",
       "      <td>78354</td>\n",
       "      <td>Annabell Siona</td>\n",
       "      <td>158932</td>\n",
       "      <td>978</td>\n",
       "      <td>Whitewater Dr</td>\n",
       "      <td>800278294</td>\n",
       "    </tr>\n",
       "    <tr>\n",
       "      <th>2</th>\n",
       "      <td>78799</td>\n",
       "      <td>Annabell Droneburg</td>\n",
       "      <td>984316</td>\n",
       "      <td>1944</td>\n",
       "      <td>W Natalie Dr</td>\n",
       "      <td>478793500</td>\n",
       "    </tr>\n",
       "    <tr>\n",
       "      <th>3</th>\n",
       "      <td>86541</td>\n",
       "      <td>Annabell Zwilling</td>\n",
       "      <td>709133</td>\n",
       "      <td>1859</td>\n",
       "      <td>Patti Rd</td>\n",
       "      <td>332961158</td>\n",
       "    </tr>\n",
       "  </tbody>\n",
       "</table>\n",
       "</div>"
      ],
      "text/plain": [
       "      id                name  license_id  address_number address_street_name  \\\n",
       "0  16371      Annabel Miller      490173             103        Franklin Ave   \n",
       "1  78354      Annabell Siona      158932             978       Whitewater Dr   \n",
       "2  78799  Annabell Droneburg      984316            1944        W Natalie Dr   \n",
       "3  86541   Annabell Zwilling      709133            1859            Patti Rd   \n",
       "\n",
       "         ssn  \n",
       "0  318771143  \n",
       "1  800278294  \n",
       "2  478793500  \n",
       "3  332961158  "
      ]
     },
     "execution_count": 24,
     "metadata": {},
     "output_type": "execute_result"
    }
   ],
   "source": [
    "query = '''\n",
    "SELECT * \n",
    "FROM person\n",
    "WHERE name like \"%Annabel%\" or ;\n",
    "\n",
    "'''\n",
    "\n",
    "df = sql_query(query)\n",
    "df"
   ]
  },
  {
   "cell_type": "code",
   "execution_count": 27,
   "metadata": {},
   "outputs": [
    {
     "data": {
      "text/html": [
       "<div>\n",
       "<style scoped>\n",
       "    .dataframe tbody tr th:only-of-type {\n",
       "        vertical-align: middle;\n",
       "    }\n",
       "\n",
       "    .dataframe tbody tr th {\n",
       "        vertical-align: top;\n",
       "    }\n",
       "\n",
       "    .dataframe thead th {\n",
       "        text-align: right;\n",
       "    }\n",
       "</style>\n",
       "<table border=\"1\" class=\"dataframe\">\n",
       "  <thead>\n",
       "    <tr style=\"text-align: right;\">\n",
       "      <th></th>\n",
       "      <th>id</th>\n",
       "      <th>name</th>\n",
       "      <th>address_number</th>\n",
       "    </tr>\n",
       "  </thead>\n",
       "  <tbody>\n",
       "    <tr>\n",
       "      <th>0</th>\n",
       "      <td>14887</td>\n",
       "      <td>Morty Schapiro</td>\n",
       "      <td>4919</td>\n",
       "    </tr>\n",
       "  </tbody>\n",
       "</table>\n",
       "</div>"
      ],
      "text/plain": [
       "      id            name  address_number\n",
       "0  14887  Morty Schapiro            4919"
      ]
     },
     "execution_count": 27,
     "metadata": {},
     "output_type": "execute_result"
    }
   ],
   "source": [
    "query = '''\n",
    "SELECT id,name, MAX(address_number) as address_number\n",
    "FROM person\n",
    "WHERE address_street_name like \"%Northwestern%\";\n",
    "\n",
    "'''\n",
    "\n",
    "df = sql_query(query)\n",
    "df"
   ]
  },
  {
   "cell_type": "code",
   "execution_count": 28,
   "metadata": {},
   "outputs": [
    {
     "data": {
      "text/html": [
       "<div>\n",
       "<style scoped>\n",
       "    .dataframe tbody tr th:only-of-type {\n",
       "        vertical-align: middle;\n",
       "    }\n",
       "\n",
       "    .dataframe tbody tr th {\n",
       "        vertical-align: top;\n",
       "    }\n",
       "\n",
       "    .dataframe thead th {\n",
       "        text-align: right;\n",
       "    }\n",
       "</style>\n",
       "<table border=\"1\" class=\"dataframe\">\n",
       "  <thead>\n",
       "    <tr style=\"text-align: right;\">\n",
       "      <th></th>\n",
       "      <th>id</th>\n",
       "      <th>name</th>\n",
       "      <th>address_number</th>\n",
       "    </tr>\n",
       "  </thead>\n",
       "  <tbody>\n",
       "    <tr>\n",
       "      <th>0</th>\n",
       "      <td>14887</td>\n",
       "      <td>Morty Schapiro</td>\n",
       "      <td>4919</td>\n",
       "    </tr>\n",
       "  </tbody>\n",
       "</table>\n",
       "</div>"
      ],
      "text/plain": [
       "      id            name  address_number\n",
       "0  14887  Morty Schapiro            4919"
      ]
     },
     "execution_count": 28,
     "metadata": {},
     "output_type": "execute_result"
    }
   ],
   "source": [
    "query = '''\n",
    "SELECT id,name, MAX(address_number) as address_number\n",
    "FROM person\n",
    "WHERE address_street_name like \"%Northwestern%\";\n",
    "\n",
    "'''\n",
    "\n",
    "df = sql_query(query)\n",
    "df"
   ]
  },
  {
   "cell_type": "code",
   "execution_count": 29,
   "metadata": {},
   "outputs": [
    {
     "data": {
      "text/html": [
       "<div>\n",
       "<style scoped>\n",
       "    .dataframe tbody tr th:only-of-type {\n",
       "        vertical-align: middle;\n",
       "    }\n",
       "\n",
       "    .dataframe tbody tr th {\n",
       "        vertical-align: top;\n",
       "    }\n",
       "\n",
       "    .dataframe thead th {\n",
       "        text-align: right;\n",
       "    }\n",
       "</style>\n",
       "<table border=\"1\" class=\"dataframe\">\n",
       "  <thead>\n",
       "    <tr style=\"text-align: right;\">\n",
       "      <th></th>\n",
       "      <th>person_id</th>\n",
       "      <th>transcript</th>\n",
       "    </tr>\n",
       "  </thead>\n",
       "  <tbody>\n",
       "    <tr>\n",
       "      <th>0</th>\n",
       "      <td>14887</td>\n",
       "      <td>I heard a gunshot and then saw a man run out. ...</td>\n",
       "    </tr>\n",
       "    <tr>\n",
       "      <th>1</th>\n",
       "      <td>16371</td>\n",
       "      <td>I saw the murder happen, and I recognized the ...</td>\n",
       "    </tr>\n",
       "  </tbody>\n",
       "</table>\n",
       "</div>"
      ],
      "text/plain": [
       "   person_id                                         transcript\n",
       "0      14887  I heard a gunshot and then saw a man run out. ...\n",
       "1      16371  I saw the murder happen, and I recognized the ..."
      ]
     },
     "execution_count": 29,
     "metadata": {},
     "output_type": "execute_result"
    }
   ],
   "source": [
    "\n",
    "\n",
    "query = '''\n",
    "select *\n",
    "from interview\n",
    "where person_id = 14887 or person_id = 16371;\n",
    "\n",
    "'''\n",
    "\n",
    "df = sql_query(query)\n",
    "df"
   ]
  },
  {
   "cell_type": "code",
   "execution_count": 31,
   "metadata": {},
   "outputs": [
    {
     "data": {
      "text/plain": [
       "'I saw the murder happen, and I recognized the killer from my gym when I was working out last week on January the 9th.'"
      ]
     },
     "execution_count": 31,
     "metadata": {},
     "output_type": "execute_result"
    }
   ],
   "source": [
    "df[\"transcript\"][1]"
   ]
  },
  {
   "cell_type": "code",
   "execution_count": 32,
   "metadata": {},
   "outputs": [
    {
     "data": {
      "text/plain": [
       "'I heard a gunshot and then saw a man run out. He had a \"Get Fit Now Gym\" bag. The membership number on the bag started with \"48Z\". Only gold members have those bags. The man got into a car with a plate that included \"H42W\".'"
      ]
     },
     "execution_count": 32,
     "metadata": {},
     "output_type": "execute_result"
    }
   ],
   "source": [
    "df[\"transcript\"][0]"
   ]
  },
  {
   "cell_type": "code",
   "execution_count": 33,
   "metadata": {},
   "outputs": [
    {
     "data": {
      "text/html": [
       "<div>\n",
       "<style scoped>\n",
       "    .dataframe tbody tr th:only-of-type {\n",
       "        vertical-align: middle;\n",
       "    }\n",
       "\n",
       "    .dataframe tbody tr th {\n",
       "        vertical-align: top;\n",
       "    }\n",
       "\n",
       "    .dataframe thead th {\n",
       "        text-align: right;\n",
       "    }\n",
       "</style>\n",
       "<table border=\"1\" class=\"dataframe\">\n",
       "  <thead>\n",
       "    <tr style=\"text-align: right;\">\n",
       "      <th></th>\n",
       "      <th>id</th>\n",
       "      <th>name</th>\n",
       "    </tr>\n",
       "  </thead>\n",
       "  <tbody>\n",
       "    <tr>\n",
       "      <th>0</th>\n",
       "      <td>67318</td>\n",
       "      <td>Jeremy Bowers</td>\n",
       "    </tr>\n",
       "  </tbody>\n",
       "</table>\n",
       "</div>"
      ],
      "text/plain": [
       "      id           name\n",
       "0  67318  Jeremy Bowers"
      ]
     },
     "execution_count": 33,
     "metadata": {},
     "output_type": "execute_result"
    }
   ],
   "source": [
    "\n",
    "\n",
    "query = '''\n",
    "select\n",
    "\tperson.id, person.name\n",
    "from\n",
    "\tdrivers_license\n",
    "inner JOIN\n",
    "\tperson on drivers_license.id = person.license_id,\n",
    "    get_fit_now_member on person.id = get_fit_now_member.person_id,\n",
    "    get_fit_now_check_in on get_fit_now_member.id = get_fit_now_check_in.membership_id\n",
    "where plate_number like \"%H42W%\" and check_in_date = 20180109;\n",
    "\n",
    "'''\n",
    "\n",
    "df = sql_query(query)\n",
    "df"
   ]
  },
  {
   "cell_type": "code",
   "execution_count": 34,
   "metadata": {},
   "outputs": [
    {
     "data": {
      "text/html": [
       "<div>\n",
       "<style scoped>\n",
       "    .dataframe tbody tr th:only-of-type {\n",
       "        vertical-align: middle;\n",
       "    }\n",
       "\n",
       "    .dataframe tbody tr th {\n",
       "        vertical-align: top;\n",
       "    }\n",
       "\n",
       "    .dataframe thead th {\n",
       "        text-align: right;\n",
       "    }\n",
       "</style>\n",
       "<table border=\"1\" class=\"dataframe\">\n",
       "  <thead>\n",
       "    <tr style=\"text-align: right;\">\n",
       "      <th></th>\n",
       "      <th>person_id</th>\n",
       "      <th>transcript</th>\n",
       "    </tr>\n",
       "  </thead>\n",
       "  <tbody>\n",
       "    <tr>\n",
       "      <th>0</th>\n",
       "      <td>67318</td>\n",
       "      <td>I was hired by a woman with a lot of money. I ...</td>\n",
       "    </tr>\n",
       "  </tbody>\n",
       "</table>\n",
       "</div>"
      ],
      "text/plain": [
       "   person_id                                         transcript\n",
       "0      67318  I was hired by a woman with a lot of money. I ..."
      ]
     },
     "execution_count": 34,
     "metadata": {},
     "output_type": "execute_result"
    }
   ],
   "source": [
    "query = '''\n",
    "select *\n",
    "from interview\n",
    "where person_id = 67318;\n",
    "\n",
    "'''\n",
    "\n",
    "df = sql_query(query)\n",
    "df"
   ]
  },
  {
   "cell_type": "code",
   "execution_count": 35,
   "metadata": {},
   "outputs": [
    {
     "data": {
      "text/plain": [
       "'I was hired by a woman with a lot of money. I don\\'t know her name but I know she\\'s around 5\\'5\" (65\") or 5\\'7\" (67\"). She has red hair and she drives a Tesla Model S. I know that she attended the SQL Symphony Concert 3 times in December 2017.\\n'"
      ]
     },
     "execution_count": 35,
     "metadata": {},
     "output_type": "execute_result"
    }
   ],
   "source": [
    "df[\"transcript\"][0]"
   ]
  },
  {
   "cell_type": "code",
   "execution_count": 36,
   "metadata": {},
   "outputs": [
    {
     "data": {
      "text/html": [
       "<div>\n",
       "<style scoped>\n",
       "    .dataframe tbody tr th:only-of-type {\n",
       "        vertical-align: middle;\n",
       "    }\n",
       "\n",
       "    .dataframe tbody tr th {\n",
       "        vertical-align: top;\n",
       "    }\n",
       "\n",
       "    .dataframe thead th {\n",
       "        text-align: right;\n",
       "    }\n",
       "</style>\n",
       "<table border=\"1\" class=\"dataframe\">\n",
       "  <thead>\n",
       "    <tr style=\"text-align: right;\">\n",
       "      <th></th>\n",
       "      <th>id</th>\n",
       "      <th>name</th>\n",
       "    </tr>\n",
       "  </thead>\n",
       "  <tbody>\n",
       "    <tr>\n",
       "      <th>0</th>\n",
       "      <td>99716</td>\n",
       "      <td>Miranda Priestly</td>\n",
       "    </tr>\n",
       "    <tr>\n",
       "      <th>1</th>\n",
       "      <td>99716</td>\n",
       "      <td>Miranda Priestly</td>\n",
       "    </tr>\n",
       "    <tr>\n",
       "      <th>2</th>\n",
       "      <td>99716</td>\n",
       "      <td>Miranda Priestly</td>\n",
       "    </tr>\n",
       "  </tbody>\n",
       "</table>\n",
       "</div>"
      ],
      "text/plain": [
       "      id              name\n",
       "0  99716  Miranda Priestly\n",
       "1  99716  Miranda Priestly\n",
       "2  99716  Miranda Priestly"
      ]
     },
     "execution_count": 36,
     "metadata": {},
     "output_type": "execute_result"
    }
   ],
   "source": [
    "query = '''\n",
    "SELECT person.id, person.name\n",
    "from drivers_license\n",
    "inner join person on drivers_license.id = person.license_id\n",
    "INNER join facebook_event_checkin on person.id = facebook_event_checkin.person_id\n",
    "where car_model = \"Model S\" and hair_color = \"red\" and drivers_license.gender = \"female\";\n",
    "\n",
    "'''\n",
    "\n",
    "df = sql_query(query)\n",
    "df"
   ]
  },
  {
   "cell_type": "code",
   "execution_count": 38,
   "metadata": {},
   "outputs": [
    {
     "data": {
      "text/plain": [
       "0    Miranda Priestly\n",
       "1    Miranda Priestly\n",
       "2    Miranda Priestly\n",
       "Name: name, dtype: object"
      ]
     },
     "execution_count": 38,
     "metadata": {},
     "output_type": "execute_result"
    }
   ],
   "source": [
    "df.name"
   ]
  }
 ],
 "metadata": {
  "kernelspec": {
   "display_name": "Python 3",
   "language": "python",
   "name": "python3"
  },
  "language_info": {
   "codemirror_mode": {
    "name": "ipython",
    "version": 3
   },
   "file_extension": ".py",
   "mimetype": "text/x-python",
   "name": "python",
   "nbconvert_exporter": "python",
   "pygments_lexer": "ipython3",
   "version": "3.11.8"
  }
 },
 "nbformat": 4,
 "nbformat_minor": 2
}
